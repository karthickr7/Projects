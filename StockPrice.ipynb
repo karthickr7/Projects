{
 "cells": [
  {
   "cell_type": "markdown",
   "id": "cae49cc9",
   "metadata": {},
   "source": [
    "# Stock price app for US companies"
   ]
  },
  {
   "cell_type": "code",
   "execution_count": 6,
   "id": "5fac2c7e",
   "metadata": {},
   "outputs": [
    {
     "data": {
      "text/plain": [
       "DeltaGenerator()"
      ]
     },
     "execution_count": 6,
     "metadata": {},
     "output_type": "execute_result"
    }
   ],
   "source": [
    "#import necessary passages\n",
    "import yfinance as yf #we used Yahoo finance\n",
    "import pandas as pd\n",
    "import streamlit as st\n",
    "\n",
    "\n",
    "#title\n",
    "st.title(':blue[Stock Price Chart for US companies]')\n",
    "\n",
    "#code\n",
    "stock='GOOGL'#Enter the name of the stock\n",
    "stockdata=yf.Ticker(stock)\n",
    "stockdf=stockdata.history(period='1d', start='2013-07-03', end='2023-07-03') #we have taken a 10 year period and 1 day closing \n",
    "\n",
    "#output\n",
    "st.subheader(':red[Closing price Chart]')\n",
    "st.line_chart(stockdf.Close) #x-axis represents day and y-axis represents Closing price\n",
    "\n",
    "st.subheader(':green[Volume Chart]') \n",
    "st.line_chart(stockdf.Volume)  #x-axis represents day and y-axis represents Volume\n"
   ]
  },
  {
   "cell_type": "code",
   "execution_count": null,
   "id": "ee4aef0d",
   "metadata": {},
   "outputs": [],
   "source": []
  }
 ],
 "metadata": {
  "kernelspec": {
   "display_name": "Python 3 (ipykernel)",
   "language": "python",
   "name": "python3"
  },
  "language_info": {
   "codemirror_mode": {
    "name": "ipython",
    "version": 3
   },
   "file_extension": ".py",
   "mimetype": "text/x-python",
   "name": "python",
   "nbconvert_exporter": "python",
   "pygments_lexer": "ipython3",
   "version": "3.10.9"
  }
 },
 "nbformat": 4,
 "nbformat_minor": 5
}
